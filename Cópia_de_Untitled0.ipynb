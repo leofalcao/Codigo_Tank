{
  "nbformat": 4,
  "nbformat_minor": 0,
  "metadata": {
    "colab": {
      "provenance": [],
      "collapsed_sections": [],
      "authorship_tag": "ABX9TyNvkHmMH0c7ptmdMxPZrbB6",
      "include_colab_link": true
    },
    "kernelspec": {
      "name": "python3",
      "display_name": "Python 3"
    },
    "language_info": {
      "name": "python"
    }
  },
  "cells": [
    {
      "cell_type": "markdown",
      "metadata": {
        "id": "view-in-github",
        "colab_type": "text"
      },
      "source": [
        "<a href=\"https://colab.research.google.com/github/leofalcao/Codigo_Tank/blob/main/C%C3%B3pia_de_Untitled0.ipynb\" target=\"_parent\"><img src=\"https://colab.research.google.com/assets/colab-badge.svg\" alt=\"Open In Colab\"/></a>"
      ]
    },
    {
      "cell_type": "markdown",
      "source": [
        "Inicío da programação com Codigo tank\n"
      ],
      "metadata": {
        "id": "73BQbtBU4XPa"
      }
    },
    {
      "cell_type": "code",
      "execution_count": null,
      "metadata": {
        "colab": {
          "base_uri": "https://localhost:8080/",
          "height": 87
        },
        "id": "KxxtWh7L1TcH",
        "outputId": "145a89ad-d56e-4617-f091-d539a60f40e7"
      },
      "outputs": [
        {
          "name": "stdout",
          "output_type": "stream",
          "text": [
            "hello Word\n",
            "Seja Bem vindo ao Curso de Python, Codigo Thank\n",
            "Olá, qual o codigo de linguagem você está estudando? Python\n"
          ]
        },
        {
          "output_type": "execute_result",
          "data": {
            "text/plain": [
              "'Python'"
            ],
            "application/vnd.google.colaboratory.intrinsic+json": {
              "type": "string"
            }
          },
          "metadata": {},
          "execution_count": 3
        }
      ],
      "source": [
        "print(\"hello Word\")\n",
        "print('Seja Bem vindo ao Curso de Python, Codigo Thank')\n",
        "input('Olá, qual o codigo de linguagem você está estudando? ')"
      ]
    },
    {
      "cell_type": "markdown",
      "source": [
        " ***variáveis***"
      ],
      "metadata": {
        "id": "SsFsximT51GC"
      }
    },
    {
      "cell_type": "code",
      "source": [
        "linguagem=input('Qual a linguagem de programação que você está estudando? ')\n",
        "print('A linguagem que você está estudando é', linguagem) \n"
      ],
      "metadata": {
        "colab": {
          "base_uri": "https://localhost:8080/"
        },
        "id": "s89qMpt13TYi",
        "outputId": "5fd72fd2-e1c9-44c4-ddc1-45b6849762a3"
      },
      "execution_count": null,
      "outputs": [
        {
          "output_type": "stream",
          "name": "stdout",
          "text": [
            "Qual a linguagem de programação que você está estudando? Python\n",
            "A linguagem que você está estudando é Python\n"
          ]
        }
      ]
    },
    {
      "cell_type": "markdown",
      "source": [
        " ***Operadores Aritiméticos e Booleanos ***"
      ],
      "metadata": {
        "id": "Hj8KtJdF7IIo"
      }
    },
    {
      "cell_type": "code",
      "source": [
        "idade1=10\n",
        "idade2=15\n",
        "altura1=1.77\n",
        "altura2=1.65\n",
        "altura3=altura2\n",
        "\n",
        "print(idade1>idade2)\n",
        "print(idade1<=idade2)\n",
        "print('Python'=='python')\n",
        "print('banana'!='abacaxi')\n",
        "print(altura1>=altura2)\n",
        "print(altura2>altura3)"
      ],
      "metadata": {
        "colab": {
          "base_uri": "https://localhost:8080/"
        },
        "id": "o-4kma9r7Hua",
        "outputId": "25cf5608-25de-4e34-b1b6-4bb21d00e619"
      },
      "execution_count": null,
      "outputs": [
        {
          "output_type": "stream",
          "name": "stdout",
          "text": [
            "False\n",
            "True\n",
            "False\n",
            "True\n",
            "True\n",
            "False\n"
          ]
        }
      ]
    },
    {
      "cell_type": "markdown",
      "source": [
        " ***Conversão de tipos***"
      ],
      "metadata": {
        "id": "GqeRXErr-bNi"
      }
    },
    {
      "cell_type": "markdown",
      "source": [
        " ***Estruturas Condicionais***"
      ],
      "metadata": {
        "id": "8G7KAZE3LruJ"
      }
    },
    {
      "cell_type": "code",
      "source": [
        "idade=17\n",
        "if idade >= 18:\n",
        "  print('Você é maior de idade')\n",
        "else:\n",
        "  print('Você é menor de idade.')\n",
        "\n",
        "\n"
      ],
      "metadata": {
        "id": "aYyWzNwf-gR1",
        "colab": {
          "base_uri": "https://localhost:8080/"
        },
        "outputId": "7e11947b-60e2-4eab-b20c-3276c0ca7d13"
      },
      "execution_count": null,
      "outputs": [
        {
          "output_type": "stream",
          "name": "stdout",
          "text": [
            "Você é menor de idade.\n"
          ]
        }
      ]
    },
    {
      "cell_type": "code",
      "source": [
        "nota = 9\n",
        "if nota >= 7:\n",
        "  print(\"Você foi Aprovado\")\n",
        "else:\n",
        "  print('Você foi Reprovado')"
      ],
      "metadata": {
        "colab": {
          "base_uri": "https://localhost:8080/"
        },
        "id": "J-QyJ5VpNGeR",
        "outputId": "84443fd7-a931-4a78-dc8a-144201f1e4be"
      },
      "execution_count": null,
      "outputs": [
        {
          "output_type": "stream",
          "name": "stdout",
          "text": [
            "Você foi Aprovado\n"
          ]
        }
      ]
    },
    {
      "cell_type": "code",
      "source": [
        "nota = 6\n",
        "if nota >= 7:\n",
        "  print(\"Você foi Aprovado\")\n",
        "elif nota >= 5:\n",
        "  print('Você está de recuperação')\n",
        "else:\n",
        "  print('Você foi Reprovado')"
      ],
      "metadata": {
        "colab": {
          "base_uri": "https://localhost:8080/"
        },
        "id": "eWnrAJDYOjVH",
        "outputId": "19c4ce91-139b-4440-d687-ec4cd0698b61"
      },
      "execution_count": null,
      "outputs": [
        {
          "output_type": "stream",
          "name": "stdout",
          "text": [
            "Você está de recuperação\n"
          ]
        }
      ]
    },
    {
      "cell_type": "code",
      "source": [
        "media=10\n",
        "presenca=90\n",
        "\n",
        "if media >= 7 and presenca >= 70:\n",
        "  print('Aprovado')\n",
        "  print('Parabens')\n",
        "else:\n",
        "  print('Reprovado')"
      ],
      "metadata": {
        "colab": {
          "base_uri": "https://localhost:8080/"
        },
        "id": "qpd2tUg7P2Cr",
        "outputId": "3ede3fc0-c258-4b97-8be8-08c18ec26fa2"
      },
      "execution_count": null,
      "outputs": [
        {
          "output_type": "stream",
          "name": "stdout",
          "text": [
            "Aprovado\n",
            "Parabens\n"
          ]
        }
      ]
    },
    {
      "cell_type": "markdown",
      "source": [
        "***Laços de repetição***"
      ],
      "metadata": {
        "id": "Zuh1bXCiZfSu"
      }
    },
    {
      "cell_type": "code",
      "source": [
        "numero_sorteado = 15\n",
        "numero_escolhido = int(input('informe um numero entre 1 e 20 '))\n",
        "while numero_escolhido != numero_sorteado:\n",
        "  print('Voce errou o numero, tente novamente...')\n",
        "  numero_escolhido = int(input('informe um numero entre 1 e 20 '))\n",
        "print('Parabens, voce acertou!')\n",
        "\n",
        "\n"
      ],
      "metadata": {
        "colab": {
          "base_uri": "https://localhost:8080/"
        },
        "id": "ZxgCIN2NXjsp",
        "outputId": "b9f0e7a5-9613-4c8d-a006-62bf9aa2348d"
      },
      "execution_count": null,
      "outputs": [
        {
          "output_type": "stream",
          "name": "stdout",
          "text": [
            "informe um numero entre 1 e 20 20\n",
            "Voce errou o numero, tente novamente...\n",
            "informe um numero entre 1 e 20 18\n",
            "Voce errou o numero, tente novamente...\n",
            "informe um numero entre 1 e 20 15\n",
            "Parabens, voce acertou!\n"
          ]
        }
      ]
    },
    {
      "cell_type": "code",
      "source": [
        "for variavel in range(5):\n",
        "  print(variavel)\n",
        "  "
      ],
      "metadata": {
        "colab": {
          "base_uri": "https://localhost:8080/"
        },
        "id": "7U5kil2fbNHt",
        "outputId": "77efd5da-ed5e-4376-aa7f-eb4517fd4682"
      },
      "execution_count": 1,
      "outputs": [
        {
          "output_type": "stream",
          "name": "stdout",
          "text": [
            "0\n",
            "1\n",
            "2\n",
            "3\n",
            "4\n"
          ]
        }
      ]
    },
    {
      "cell_type": "code",
      "source": [
        "for variavel in range(1,11):\n",
        "  print(variavel)"
      ],
      "metadata": {
        "colab": {
          "base_uri": "https://localhost:8080/"
        },
        "id": "uhB9TnbMbbXa",
        "outputId": "8bf3c5aa-b047-44df-d00e-c8ce48720a04"
      },
      "execution_count": 2,
      "outputs": [
        {
          "output_type": "stream",
          "name": "stdout",
          "text": [
            "1\n",
            "2\n",
            "3\n",
            "4\n",
            "5\n",
            "6\n",
            "7\n",
            "8\n",
            "9\n",
            "10\n"
          ]
        }
      ]
    },
    {
      "cell_type": "code",
      "source": [
        "for variavel in range(1,30,3):\n",
        "  print(variavel)"
      ],
      "metadata": {
        "colab": {
          "base_uri": "https://localhost:8080/"
        },
        "id": "GFkk-faTb1Kn",
        "outputId": "926b1c81-0002-4f9d-9513-d44f2a0833c7"
      },
      "execution_count": 4,
      "outputs": [
        {
          "output_type": "stream",
          "name": "stdout",
          "text": [
            "1\n",
            "4\n",
            "7\n",
            "10\n",
            "13\n",
            "16\n",
            "19\n",
            "22\n",
            "25\n",
            "28\n"
          ]
        }
      ]
    },
    {
      "cell_type": "code",
      "source": [
        "soma=0\n",
        "for variavel in range(1, 5):\n",
        "  nota = float(input(f'informe a sua note {variavel}:'))\n",
        "  soma =soma + nota\n",
        "print(soma/3)"
      ],
      "metadata": {
        "colab": {
          "base_uri": "https://localhost:8080/"
        },
        "id": "VacxWqZ9cAfI",
        "outputId": "da524c78-fb64-4d70-c53d-352600ba565b"
      },
      "execution_count": 8,
      "outputs": [
        {
          "output_type": "stream",
          "name": "stdout",
          "text": [
            "informe a sua note 1:4\n",
            "informe a sua note 2:6\n",
            "informe a sua note 3:9\n",
            "informe a sua note 4:2\n",
            "7.0\n"
          ]
        }
      ]
    },
    {
      "cell_type": "markdown",
      "source": [
        "***Listas***"
      ],
      "metadata": {
        "id": "brCteU3Asv9-"
      }
    },
    {
      "cell_type": "code",
      "source": [
        "# Criando Listas\n",
        "\n",
        "lista=[]\n",
        "lista=list()\n",
        "lista=[26,'wilson', 3.14159, False] \n",
        "lista_de_listas=[10,[1,2,3]]\n",
        "\n",
        "#Indexação de slices\n",
        "\n",
        "lista=[10, 'walisson', 3.14159, True]\n",
        "\n",
        "print(lista[0])\n",
        "print(lista[1])\n",
        "print(lista[2])\n",
        "print(lista[3])\n",
        "print(lista[-2])\n"
      ],
      "metadata": {
        "colab": {
          "base_uri": "https://localhost:8080/"
        },
        "id": "faWfrKRCsuaS",
        "outputId": "47d8f0c5-5543-451f-ae6a-f6ae993545b2"
      },
      "execution_count": 4,
      "outputs": [
        {
          "output_type": "stream",
          "name": "stdout",
          "text": [
            "10\n",
            "walisson\n",
            "3.14159\n",
            "True\n",
            "3.14159\n"
          ]
        }
      ]
    },
    {
      "cell_type": "code",
      "source": [
        "#slices\n",
        "\n",
        "lista = [10, 50, 30, 40,25, 60, 5]\n",
        "\n",
        "print(lista[0:3])\n",
        "print(lista[3:6])\n",
        "print(lista[3:])\n",
        "print(lista[2:6:2])\n"
      ],
      "metadata": {
        "colab": {
          "base_uri": "https://localhost:8080/"
        },
        "id": "mAUxbgW5wHpn",
        "outputId": "2a61e46c-7e06-4f33-e054-3580fda18259"
      },
      "execution_count": 7,
      "outputs": [
        {
          "output_type": "stream",
          "name": "stdout",
          "text": [
            "[10, 50, 30]\n",
            "[40, 25, 60]\n",
            "[40, 25, 60, 5]\n",
            "[30, 25]\n"
          ]
        }
      ]
    },
    {
      "cell_type": "code",
      "source": [
        "lista = [10, 50, 30, 40,25, 60, 5]\n",
        "for elemento in lista:\n",
        "  print(elemento)"
      ],
      "metadata": {
        "colab": {
          "base_uri": "https://localhost:8080/"
        },
        "id": "c2EBOsdFw-61",
        "outputId": "23d8b8e7-49e9-4bf6-d936-6817dad18f10"
      },
      "execution_count": 9,
      "outputs": [
        {
          "output_type": "stream",
          "name": "stdout",
          "text": [
            "10\n",
            "50\n",
            "30\n",
            "40\n",
            "25\n",
            "60\n",
            "5\n"
          ]
        }
      ]
    },
    {
      "cell_type": "code",
      "source": [
        "lista = [10, 50, 30, 40,25, 60, 5]\n",
        "print('comprimento da lista:',len(lista))"
      ],
      "metadata": {
        "colab": {
          "base_uri": "https://localhost:8080/"
        },
        "id": "IUUNxtC9ssDu",
        "outputId": "8e7bdda8-b5cf-4475-e10d-a2a477c67370"
      },
      "execution_count": 11,
      "outputs": [
        {
          "output_type": "stream",
          "name": "stdout",
          "text": [
            "comprimento da lista: 7\n"
          ]
        }
      ]
    },
    {
      "cell_type": "code",
      "source": [
        "lista = [10, 50, 30, 40,25, 60, 5]\n",
        "print('comprimento da lista:',len(lista))\n",
        "for i in range(len(lista)):\n",
        "  print(lista[i])"
      ],
      "metadata": {
        "colab": {
          "base_uri": "https://localhost:8080/"
        },
        "id": "6AXTU7SayO29",
        "outputId": "01f04aea-ca49-4e87-ebbe-084383aa0398"
      },
      "execution_count": 12,
      "outputs": [
        {
          "output_type": "stream",
          "name": "stdout",
          "text": [
            "comprimento da lista: 7\n",
            "10\n",
            "50\n",
            "30\n",
            "40\n",
            "25\n",
            "60\n",
            "5\n"
          ]
        }
      ]
    },
    {
      "cell_type": "code",
      "source": [
        "# Métodos de listas\n",
        "\n",
        "lista = [1, 3, 12, 8, 2]\n",
        "\n",
        "# append\n",
        "\n",
        "print('Antes do append', lista)\n",
        "\n",
        "lista. append(100)\n",
        "\n",
        "print('Depois do append:', lista)\n",
        "\n",
        "print('comprimento da lista:',len(lista))\n",
        "\n",
        "# insert\n",
        "\n",
        "lista.insert(4,300)\n",
        "print('Depois do insert', lista)\n",
        "\n",
        "# extend\n",
        "\n",
        "lista2 = [1,2,3]\n",
        "\n",
        "lista.extend(lista2)\n",
        "\n",
        "print('Depois da extend:', lista)\n",
        "\n",
        "# pop\n",
        "\n",
        "lista.pop()\n",
        "\n",
        "print('lista após o pop:', lista)\n",
        "\n",
        "lista.pop(2)\n",
        "\n",
        "print('lista após o pop', lista)\n",
        "\n",
        "# remove\n",
        "\n",
        "lista.remove(2)\n",
        "\n",
        "print('Depois do remove:', lista)\n",
        "\n",
        "# count\n",
        "\n",
        "print('Quantidade de 1 na lista :', lista.count(1))\n",
        "\n",
        "# index\n",
        "\n",
        "print('Índice do elemento 100:', lista.index(100))\n",
        "\n",
        "# sort\n",
        "\n",
        "lista.sort()\n",
        "print(lista)\n",
        "\n"
      ],
      "metadata": {
        "colab": {
          "base_uri": "https://localhost:8080/"
        },
        "id": "zIK4vsJqyXQe",
        "outputId": "50f333b0-8837-4a80-9049-0f4dfd13f426"
      },
      "execution_count": 25,
      "outputs": [
        {
          "output_type": "stream",
          "name": "stdout",
          "text": [
            "Antes do append [1, 3, 12, 8, 2]\n",
            "Depois do append: [1, 3, 12, 8, 2, 100]\n",
            "comprimento da lista: 6\n",
            "Depois do insert [1, 3, 12, 8, 300, 2, 100]\n",
            "Depois da extend: [1, 3, 12, 8, 300, 2, 100, 1, 2, 3]\n",
            "lista após o pop: [1, 3, 12, 8, 300, 2, 100, 1, 2]\n",
            "lista após o pop [1, 3, 8, 300, 2, 100, 1, 2]\n",
            "Depois do remove: [1, 3, 8, 300, 100, 1, 2]\n",
            "Quantidade de 1 na lista : 2\n",
            "Índice do elemento 100: 4\n",
            "[1, 1, 2, 3, 8, 100, 300]\n"
          ]
        }
      ]
    },
    {
      "cell_type": "markdown",
      "source": [
        " ***Funções para lista***"
      ],
      "metadata": {
        "id": "I9F51tYT4BMv"
      }
    },
    {
      "cell_type": "code",
      "source": [
        "lista = [1, 3, 12, 8, 2]\n",
        "\n",
        "# len\n",
        "\n",
        "print(len(lista))\n",
        "\n",
        "# sum\n",
        "\n",
        "print(sum(lista))\n",
        "\n",
        "# max \n",
        "\n",
        "print('Maior elemento da lista:',max(lista))\n",
        "\n",
        "# min\n",
        "\n",
        "print('Maior elemento da lista:',min(lista))\n",
        "\n",
        "\n"
      ],
      "metadata": {
        "colab": {
          "base_uri": "https://localhost:8080/"
        },
        "id": "is7k5Ewm4EsB",
        "outputId": "a7988ffa-b82d-436f-a99c-b6df550f930e"
      },
      "execution_count": 26,
      "outputs": [
        {
          "output_type": "stream",
          "name": "stdout",
          "text": [
            "5\n",
            "26\n",
            "Maior elemento da lista: 12\n",
            "Maior elemento da lista: 1\n"
          ]
        }
      ]
    },
    {
      "cell_type": "markdown",
      "source": [
        " ***Função***"
      ],
      "metadata": {
        "id": "n-c_JSqB5q75"
      }
    },
    {
      "cell_type": "code",
      "source": [
        "# Função inical\n",
        "\n",
        "def saudacao():\n",
        "  print('Seja bem-vindo!')\n",
        "  print('olá é um prazer ter você fazendo esse curso')\n",
        "\n",
        "saudacao()\n",
        "saudacao()\n",
        "\n",
        "\n",
        "\n",
        "\n",
        "\n",
        "\n"
      ],
      "metadata": {
        "colab": {
          "base_uri": "https://localhost:8080/"
        },
        "id": "hv41V_9c5o2T",
        "outputId": "63924614-5f87-4053-f62c-fdbfdad90f06"
      },
      "execution_count": 9,
      "outputs": [
        {
          "output_type": "stream",
          "name": "stdout",
          "text": [
            "Seja bem-vindo!\n",
            "olá é um prazer ter você fazendo esse curso\n",
            "Seja bem-vindo!\n",
            "olá é um prazer ter você fazendo esse curso\n",
            "Seja bem-vindo, Léo!\n",
            "olá é um prazer ter você fazendo esse curso\n"
          ]
        }
      ]
    },
    {
      "cell_type": "code",
      "source": [
        "# Função com parâmetro\n",
        "\n",
        "def saudacao(nome):\n",
        "  print(f'Seja bem-vindo, {nome}!')\n",
        "  print('olá é um prazer ter você fazendo esse curso')\n",
        "\n",
        "saudacao(\"Léo\")"
      ],
      "metadata": {
        "colab": {
          "base_uri": "https://localhost:8080/"
        },
        "id": "iLk3DQkj_CkW",
        "outputId": "02e18f1d-96b5-497c-c6a4-2676b7b0ee9e"
      },
      "execution_count": 10,
      "outputs": [
        {
          "output_type": "stream",
          "name": "stdout",
          "text": [
            "Seja bem-vindo, Léo!\n",
            "olá é um prazer ter você fazendo esse curso\n"
          ]
        }
      ]
    },
    {
      "cell_type": "code",
      "source": [
        "# Função com parâmetro\n",
        "\n",
        "def saudacao(nome, curso):\n",
        "  print(f'Seja bem-vindo, {nome}!')\n",
        "  print(f'olá é um prazer ter você fazendo esse curso de {curso}')\n",
        "\n",
        "saudacao('Léo', 'python')\n",
        "saudacao('Marina', 'java')"
      ],
      "metadata": {
        "colab": {
          "base_uri": "https://localhost:8080/"
        },
        "id": "XcbuHBwc9fG1",
        "outputId": "dc887a5e-eb62-4954-de57-70c3b9e46a79"
      },
      "execution_count": 14,
      "outputs": [
        {
          "output_type": "stream",
          "name": "stdout",
          "text": [
            "Seja bem-vindo, Léo!\n",
            "olá é um prazer ter você fazendo esse curso de python\n",
            "Seja bem-vindo, Marina!\n",
            "olá é um prazer ter você fazendo esse curso de java\n"
          ]
        }
      ]
    },
    {
      "cell_type": "code",
      "source": [
        "# Função com parametro default \n",
        "\n",
        "def saudacao(nome, curso='python'):\n",
        "  print(f'Seja bem-vindo, {nome}!')\n",
        "  print(f'olá é um prazer ter você fazendo esse curso de {curso}')\n",
        "\n",
        "saudacao('Léo', 'C++')"
      ],
      "metadata": {
        "colab": {
          "base_uri": "https://localhost:8080/"
        },
        "id": "fwF8akA1_JCX",
        "outputId": "f74c2f00-e01f-4cf5-f32f-ccc92141e6bd"
      },
      "execution_count": 16,
      "outputs": [
        {
          "output_type": "stream",
          "name": "stdout",
          "text": [
            "Seja bem-vindo, Léo!\n",
            "olá é um prazer ter você fazendo esse curso de C++\n"
          ]
        }
      ]
    },
    {
      "cell_type": "code",
      "source": [
        "# Funções com retorno\n",
        "\n",
        "def soma(nume,num2):\n",
        "  "
      ],
      "metadata": {
        "id": "ddGhDTA0BOW3"
      },
      "execution_count": null,
      "outputs": []
    },
    {
      "cell_type": "markdown",
      "source": [],
      "metadata": {
        "id": "w1BLy4EPstfn"
      }
    }
  ]
}